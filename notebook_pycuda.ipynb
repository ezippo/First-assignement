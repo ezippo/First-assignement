{
  "nbformat": 4,
  "nbformat_minor": 0,
  "metadata": {
    "colab": {
      "name": "notebook_pycuda.ipynb",
      "provenance": [],
      "collapsed_sections": [
        "6xJY4sEa3jbd",
        "cdLZAJoK48XZ"
      ],
      "toc_visible": true,
      "authorship_tag": "ABX9TyNf+/wrQoy8+tINB8B6cg2Z",
      "include_colab_link": true
    },
    "kernelspec": {
      "name": "python3",
      "display_name": "Python 3"
    },
    "accelerator": "GPU"
  },
  "cells": [
    {
      "cell_type": "markdown",
      "metadata": {
        "id": "view-in-github",
        "colab_type": "text"
      },
      "source": [
        "<a href=\"https://colab.research.google.com/github/ezippo/cmepda-EZ/blob/master/notebook_pycuda.ipynb\" target=\"_parent\"><img src=\"https://colab.research.google.com/assets/colab-badge.svg\" alt=\"Open In Colab\"/></a>"
      ]
    },
    {
      "cell_type": "markdown",
      "metadata": {
        "id": "6xJY4sEa3jbd"
      },
      "source": [
        "# Setup iniziale\n",
        "\n",
        "1. attivare supporto iniziale\n",
        "2. installa pycuda\n",
        "\n"
      ]
    },
    {
      "cell_type": "code",
      "metadata": {
        "id": "l0A_ZppE3gcy"
      },
      "source": [
        "import pycuda"
      ],
      "execution_count": null,
      "outputs": []
    },
    {
      "cell_type": "code",
      "metadata": {
        "id": "XoGyMYQi3-mS"
      },
      "source": [
        "!pip install pycuda"
      ],
      "execution_count": null,
      "outputs": []
    },
    {
      "cell_type": "code",
      "metadata": {
        "id": "quesjRCp4Haa"
      },
      "source": [
        ""
      ],
      "execution_count": null,
      "outputs": []
    },
    {
      "cell_type": "markdown",
      "metadata": {
        "id": "p1fRMf3_4qor"
      },
      "source": [
        "3. controlla versione cuda\n"
      ]
    },
    {
      "cell_type": "code",
      "metadata": {
        "id": "Ry2mSo824voL"
      },
      "source": [
        "import pycuda"
      ],
      "execution_count": 3,
      "outputs": []
    },
    {
      "cell_type": "code",
      "metadata": {
        "id": "g5snHnxG4yUe",
        "outputId": "dcc8c7e4-6670-4ff6-da11-4c4261d4e942",
        "colab": {
          "base_uri": "https://localhost:8080/"
        }
      },
      "source": [
        "!nvcc --version\n"
      ],
      "execution_count": 4,
      "outputs": [
        {
          "output_type": "stream",
          "text": [
            "nvcc: NVIDIA (R) Cuda compiler driver\n",
            "Copyright (c) 2005-2019 NVIDIA Corporation\n",
            "Built on Sun_Jul_28_19:07:16_PDT_2019\n",
            "Cuda compilation tools, release 10.1, V10.1.243\n"
          ],
          "name": "stdout"
        }
      ]
    },
    {
      "cell_type": "code",
      "metadata": {
        "id": "Kz4dJqm-45hC"
      },
      "source": [
        ""
      ],
      "execution_count": null,
      "outputs": []
    },
    {
      "cell_type": "markdown",
      "metadata": {
        "id": "cdLZAJoK48XZ"
      },
      "source": [
        "# BASH"
      ]
    },
    {
      "cell_type": "code",
      "metadata": {
        "id": "WRm2cgmG498g",
        "outputId": "91a55046-9567-4cef-edfd-ac61ee671a4d",
        "colab": {
          "base_uri": "https://localhost:8080/"
        }
      },
      "source": [
        "!ls\n"
      ],
      "execution_count": 5,
      "outputs": [
        {
          "output_type": "stream",
          "text": [
            "sample_data\n"
          ],
          "name": "stdout"
        }
      ]
    },
    {
      "cell_type": "code",
      "metadata": {
        "id": "UvA7XxfY5Alm"
      },
      "source": [
        "mkdir testdir\n"
      ],
      "execution_count": 6,
      "outputs": []
    },
    {
      "cell_type": "code",
      "metadata": {
        "id": "MG9Y2NQw5KYo",
        "outputId": "5f0cfc8b-53da-4c8c-b7d9-cf7cee274d75",
        "colab": {
          "base_uri": "https://localhost:8080/"
        }
      },
      "source": [
        "cd mkdir\n"
      ],
      "execution_count": 7,
      "outputs": [
        {
          "output_type": "stream",
          "text": [
            "[Errno 2] No such file or directory: 'mkdir'\n",
            "/content\n"
          ],
          "name": "stdout"
        }
      ]
    },
    {
      "cell_type": "code",
      "metadata": {
        "id": "zFXNfSkT5MiO",
        "outputId": "20bd6247-579b-40a5-8c18-5931b9611262",
        "colab": {
          "base_uri": "https://localhost:8080/"
        }
      },
      "source": [
        "cd testdir/\n"
      ],
      "execution_count": 8,
      "outputs": [
        {
          "output_type": "stream",
          "text": [
            "/content/testdir\n"
          ],
          "name": "stdout"
        }
      ]
    },
    {
      "cell_type": "code",
      "metadata": {
        "id": "uNzQ2Zog5PJq"
      },
      "source": [
        "ls"
      ],
      "execution_count": 9,
      "outputs": []
    },
    {
      "cell_type": "code",
      "metadata": {
        "id": "SSsTA2nT5QIe",
        "outputId": "a19cade3-52a6-4ec7-9ee5-73e255a53e7d",
        "colab": {
          "base_uri": "https://localhost:8080/",
          "height": 129
        }
      },
      "source": [
        "touch ciao\n"
      ],
      "execution_count": 10,
      "outputs": [
        {
          "output_type": "error",
          "ename": "SyntaxError",
          "evalue": "ignored",
          "traceback": [
            "\u001b[0;36m  File \u001b[0;32m\"<ipython-input-10-714b3bfd6259>\"\u001b[0;36m, line \u001b[0;32m1\u001b[0m\n\u001b[0;31m    touch ciao\u001b[0m\n\u001b[0m             ^\u001b[0m\n\u001b[0;31mSyntaxError\u001b[0m\u001b[0;31m:\u001b[0m invalid syntax\n"
          ]
        }
      ]
    },
    {
      "cell_type": "code",
      "metadata": {
        "id": "SPDwZvWP5Rxn",
        "outputId": "b1262b55-a30b-494e-b93b-af81dcbb6ff8",
        "colab": {
          "base_uri": "https://localhost:8080/"
        }
      },
      "source": [
        "\n",
        "!gcc --version\n"
      ],
      "execution_count": 11,
      "outputs": [
        {
          "output_type": "stream",
          "text": [
            "gcc (Ubuntu 7.5.0-3ubuntu1~18.04) 7.5.0\n",
            "Copyright (C) 2017 Free Software Foundation, Inc.\n",
            "This is free software; see the source for copying conditions.  There is NO\n",
            "warranty; not even for MERCHANTABILITY or FITNESS FOR A PARTICULAR PURPOSE.\n",
            "\n"
          ],
          "name": "stdout"
        }
      ]
    },
    {
      "cell_type": "code",
      "metadata": {
        "id": "zPpPwKNp5WeA"
      },
      "source": [
        ""
      ],
      "execution_count": null,
      "outputs": []
    },
    {
      "cell_type": "markdown",
      "metadata": {
        "id": "YehVjtWD5YuU"
      },
      "source": [
        "# Caratteristiche GPU\n"
      ]
    },
    {
      "cell_type": "code",
      "metadata": {
        "id": "mZCHd7qx5b6A"
      },
      "source": [
        "!nvidia-smi"
      ],
      "execution_count": null,
      "outputs": []
    },
    {
      "cell_type": "code",
      "metadata": {
        "id": "VwzFEz205hMr"
      },
      "source": [
        "import pycuda.driver as drv\n"
      ],
      "execution_count": 13,
      "outputs": []
    },
    {
      "cell_type": "code",
      "metadata": {
        "id": "LVXLo9ik557j",
        "outputId": "51f1fe74-fce7-4afd-8621-5f7c35cd29e8",
        "colab": {
          "base_uri": "https://localhost:8080/"
        }
      },
      "source": [
        "drv.init()\n",
        "drv.get_version()\n",
        "devn=drv.Device.count()\n",
        "print(\"N GPU =\"+str(devn))\n",
        "devices = []\n",
        "for i in range (devn):\n",
        "  devices.append(drv.Device(i))\n",
        "for sp in devices:\n",
        "  print(\"GPU name: \"+str(sp.name()))\n",
        "  print(\"Compute Capability =\"+str(sp.compute_capability()))\n",
        "  print(\"Total Memory = \"+str(sp.total_memory()/(2.**20))+\"MB\")"
      ],
      "execution_count": 16,
      "outputs": [
        {
          "output_type": "stream",
          "text": [
            "N GPU =1\n",
            "GPU name: Tesla P4\n",
            "Compute Capability =(6, 1)\n",
            "Total Memory = 7611.9375MB\n"
          ],
          "name": "stdout"
        }
      ]
    },
    {
      "cell_type": "code",
      "metadata": {
        "id": "UjerM80I7Ib5",
        "outputId": "d15220bc-6abd-4aad-a419-c3f3024953f8",
        "colab": {
          "base_uri": "https://localhost:8080/"
        }
      },
      "source": [
        "print(devn)"
      ],
      "execution_count": 15,
      "outputs": [
        {
          "output_type": "stream",
          "text": [
            "1\n"
          ],
          "name": "stdout"
        }
      ]
    },
    {
      "cell_type": "markdown",
      "metadata": {
        "id": "qJae6_IK7n1c"
      },
      "source": [
        "# Esempio in C"
      ]
    },
    {
      "cell_type": "code",
      "metadata": {
        "id": "whH84lja7O-L",
        "outputId": "e2bf60c3-cd70-49c3-f6f3-fd389785f5c3",
        "colab": {
          "base_uri": "https://localhost:8080/"
        }
      },
      "source": [
        "%%writefile VecAdd.cu\n",
        "#include <stdio.h>\n",
        "#include <cuda_runtime.h>\n",
        "\n",
        "__global__ void vectorAdd(const float *A,const float *B,float *C,int NumElements) {\n",
        "    int i=threadIdx.x + blockIdx.x*blockDim.x;\n",
        "    if (i<NumElements) {\n",
        "        C[i] = A[i] + B[i];\n",
        "    }\n",
        "}\n",
        "\n",
        "//HOST\n",
        "int main(void) {\n",
        "    int NumElements=15;\n",
        "    size_t size = NumElements*sizeof(float);\n",
        "    float a[NumElements], b[NumElements], c[NumElements];\n",
        "    float *a_gpu, *b_gpu, *c_gpu;\n",
        "    cudaMalloc((void **)&a_gpu,size);\n",
        "    cudaMalloc((void **)&b_gpu,size);\n",
        "    cudaMalloc((void **)&c_gpu,size);\n",
        "\n",
        "    for(int i=0; i<NumElements; i++) {\n",
        "        a[i]=i*i;\n",
        "        b[i]=i;\n",
        "    }\n",
        "\n",
        "    printf(\"Copy input data from host to CUDA device \\n\");\n",
        "    cudaMemcpy(a_gpu,a,size,cudaMemcpyHostToDevice);\n",
        "    cudaMemcpy(b_gpu,b,size,cudaMemcpyHostToDevice);\n",
        "\n",
        "    int threadsPerBlock = 256;\n",
        "    int blockPerGrid = (NumElements+threadsPerBlock-1)/threadsPerBlock;\n",
        "    vectorAdd<<<blockPerGrid,threadsPerBlock>>>(a_gpu, b_gpu, c_gpu, NumElements);\n",
        "\n",
        "    printf(\"Copy output data from CUDA device to host\");\n",
        "    cudaMemcpy(c,c_gpu,size,cudaMemcpyDeviceToHost);\n",
        "\n",
        "    for(int i=0; i<NumElements; i++) {\n",
        "        printf(\"%f \\n\",c[i]);\n",
        "    }\n",
        "\n",
        "    cudaFree(a_gpu); cudaFree(b_gpu); cudaFree(c_gpu);\n",
        "    return 0;\n",
        "}"
      ],
      "execution_count": 38,
      "outputs": [
        {
          "output_type": "stream",
          "text": [
            "Overwriting VecAdd.cu\n"
          ],
          "name": "stdout"
        }
      ]
    },
    {
      "cell_type": "code",
      "metadata": {
        "id": "si2ctZ-E_uKs"
      },
      "source": [
        "!nvcc -o VecAdd VecAdd.cu"
      ],
      "execution_count": 39,
      "outputs": []
    },
    {
      "cell_type": "code",
      "metadata": {
        "id": "ISyaJRSD_-td",
        "outputId": "8761c284-b1d6-4863-b9db-95beca51d924",
        "colab": {
          "base_uri": "https://localhost:8080/"
        }
      },
      "source": [
        "ls"
      ],
      "execution_count": 31,
      "outputs": [
        {
          "output_type": "stream",
          "text": [
            "\u001b[0m\u001b[01;32mVecAdd\u001b[0m*  VecAdd.cu\n"
          ],
          "name": "stdout"
        }
      ]
    },
    {
      "cell_type": "code",
      "metadata": {
        "id": "BygZPKIJBmst",
        "outputId": "4077d98c-100b-4ec6-ba94-7365f749c17b",
        "colab": {
          "base_uri": "https://localhost:8080/"
        }
      },
      "source": [
        "!./VecAdd"
      ],
      "execution_count": 40,
      "outputs": [
        {
          "output_type": "stream",
          "text": [
            "Copy input data from host to CUDA device \n",
            "Copy output data from CUDA device to host0.000000 \n",
            "2.000000 \n",
            "6.000000 \n",
            "12.000000 \n",
            "20.000000 \n",
            "30.000000 \n",
            "42.000000 \n",
            "56.000000 \n",
            "72.000000 \n",
            "90.000000 \n",
            "110.000000 \n",
            "132.000000 \n",
            "156.000000 \n",
            "182.000000 \n",
            "210.000000 \n"
          ],
          "name": "stdout"
        }
      ]
    },
    {
      "cell_type": "code",
      "metadata": {
        "id": "uYPOZbuvBumP"
      },
      "source": [
        ""
      ],
      "execution_count": null,
      "outputs": []
    },
    {
      "cell_type": "markdown",
      "metadata": {
        "id": "rAy7fSqiC8IE"
      },
      "source": [
        "# implementazione con pycuda"
      ]
    },
    {
      "cell_type": "code",
      "metadata": {
        "id": "Q4tYd_8iDGJt"
      },
      "source": [
        "from pycuda import autoinit"
      ],
      "execution_count": 41,
      "outputs": []
    },
    {
      "cell_type": "code",
      "metadata": {
        "id": "QHbMirIeDK8X"
      },
      "source": [
        "from pycuda import gpuarray"
      ],
      "execution_count": 42,
      "outputs": []
    },
    {
      "cell_type": "code",
      "metadata": {
        "id": "6tZtizO0DN0F"
      },
      "source": [
        "import numpy as np"
      ],
      "execution_count": 43,
      "outputs": []
    },
    {
      "cell_type": "code",
      "metadata": {
        "id": "KLqNo20LDRFo",
        "outputId": "b5690190-31fa-41c0-bbf6-bb81ddf04e62",
        "colab": {
          "base_uri": "https://localhost:8080/"
        }
      },
      "source": [
        "aux = range(15);\n",
        "a = np.array(aux).astype(np.float32)\n",
        "b = (a*a).astype(np.float32)\n",
        "c = np.zeros(len(aux)).astype(np.float32)\n",
        "print(b)"
      ],
      "execution_count": 44,
      "outputs": [
        {
          "output_type": "stream",
          "text": [
            "[  0.   1.   4.   9.  16.  25.  36.  49.  64.  81. 100. 121. 144. 169.\n",
            " 196.]\n"
          ],
          "name": "stdout"
        }
      ]
    },
    {
      "cell_type": "code",
      "metadata": {
        "id": "LwqUbsvWDwRf"
      },
      "source": [
        "a_gpu = gpuarray.to_gpu(a)\n",
        "b_gpu = gpuarray.to_gpu(b)\n",
        "c_gpu = gpuarray.to_gpu(c)\n"
      ],
      "execution_count": 45,
      "outputs": []
    },
    {
      "cell_type": "markdown",
      "metadata": {
        "id": "4_Y2261QEHtr"
      },
      "source": [
        "metodo semplice"
      ]
    },
    {
      "cell_type": "code",
      "metadata": {
        "id": "WWWgcfXRD7Go"
      },
      "source": [
        "c_gpu = a_gpu + b_gpu"
      ],
      "execution_count": 46,
      "outputs": []
    },
    {
      "cell_type": "code",
      "metadata": {
        "id": "Y6HKEnPoD_ZE",
        "outputId": "b30ac29b-22dd-4b4d-f52f-e2cbfbce06b8",
        "colab": {
          "base_uri": "https://localhost:8080/"
        }
      },
      "source": [
        "c_gpu"
      ],
      "execution_count": 47,
      "outputs": [
        {
          "output_type": "execute_result",
          "data": {
            "text/plain": [
              "array([  0.,   2.,   6.,  12.,  20.,  30.,  42.,  56.,  72.,  90., 110.,\n",
              "       132., 156., 182., 210.], dtype=float32)"
            ]
          },
          "metadata": {
            "tags": []
          },
          "execution_count": 47
        }
      ]
    },
    {
      "cell_type": "markdown",
      "metadata": {
        "id": "IiKxdWsQEK7V"
      },
      "source": [
        "secondo metodo"
      ]
    },
    {
      "cell_type": "code",
      "metadata": {
        "id": "h76RYAUYEAb5"
      },
      "source": [
        "from pycuda.elementwise import ElementwiseKernel"
      ],
      "execution_count": 48,
      "outputs": []
    },
    {
      "cell_type": "code",
      "metadata": {
        "id": "BSxGu3EAETCN"
      },
      "source": [
        "myCudaFunc = ElementwiseKernel(arguments = \"float *a, float *b, float *c\", operation= \"c[i] = a[i] + b[i]\", name = \"mySumK\")"
      ],
      "execution_count": 49,
      "outputs": []
    },
    {
      "cell_type": "code",
      "metadata": {
        "id": "5ccY9htxEofX"
      },
      "source": [
        "myCudaFunc(a_gpu,b_gpu,c_gpu)"
      ],
      "execution_count": 50,
      "outputs": []
    },
    {
      "cell_type": "code",
      "metadata": {
        "id": "gS81XEJ1EwCy",
        "outputId": "4975a648-44d9-420a-ad89-a41247f0be79",
        "colab": {
          "base_uri": "https://localhost:8080/"
        }
      },
      "source": [
        "c_gpu"
      ],
      "execution_count": 51,
      "outputs": [
        {
          "output_type": "execute_result",
          "data": {
            "text/plain": [
              "array([  0.,   2.,   6.,  12.,  20.,  30.,  42.,  56.,  72.,  90., 110.,\n",
              "       132., 156., 182., 210.], dtype=float32)"
            ]
          },
          "metadata": {
            "tags": []
          },
          "execution_count": 51
        }
      ]
    },
    {
      "cell_type": "markdown",
      "metadata": {
        "id": "MtVjX9C2FIz6"
      },
      "source": [
        "terzo modulo"
      ]
    },
    {
      "cell_type": "code",
      "metadata": {
        "id": "sWXKvXBYEy1o"
      },
      "source": [
        "from pycuda.compiler import SourceModule"
      ],
      "execution_count": 52,
      "outputs": []
    },
    {
      "cell_type": "code",
      "metadata": {
        "id": "3oEeT1anFN3U"
      },
      "source": [
        "cudaCode = open(\"VecAdd.cu\",\"r\")\n",
        "myCUDACode = cudaCode.read()"
      ],
      "execution_count": 54,
      "outputs": []
    },
    {
      "cell_type": "code",
      "metadata": {
        "id": "Upvx8bmGFakA"
      },
      "source": [
        "myCUDACode"
      ],
      "execution_count": null,
      "outputs": []
    },
    {
      "cell_type": "code",
      "metadata": {
        "id": "7Rf7PKgYFqDr",
        "outputId": "cbc75e38-3f6e-434c-accd-100871ab83f3",
        "colab": {
          "base_uri": "https://localhost:8080/"
        }
      },
      "source": [
        "myCode = SourceModule(myCUDACode)"
      ],
      "execution_count": 56,
      "outputs": [
        {
          "output_type": "stream",
          "text": [
            "/usr/local/lib/python3.6/dist-packages/ipykernel_launcher.py:1: UserWarning: The CUDA compiler succeeded, but said the following:\n",
            "kernel.cu(13): warning: linkage specification is not allowed\n",
            "\n",
            "\n",
            "  \"\"\"Entry point for launching an IPython kernel.\n"
          ],
          "name": "stderr"
        }
      ]
    },
    {
      "cell_type": "code",
      "metadata": {
        "id": "Ex3Y9bcvFwQG"
      },
      "source": [
        "importedKernel = myCode.get_function(\"vectorAdd\")"
      ],
      "execution_count": 57,
      "outputs": []
    },
    {
      "cell_type": "code",
      "metadata": {
        "id": "N5AzjoXNF73U"
      },
      "source": [
        "nTxB = 256\n",
        "nBxG = 1\n",
        "nGxB =1"
      ],
      "execution_count": 58,
      "outputs": []
    },
    {
      "cell_type": "code",
      "metadata": {
        "id": "wWvhqjCcGSTP"
      },
      "source": [
        "c_gpu.set(c)"
      ],
      "execution_count": 61,
      "outputs": []
    },
    {
      "cell_type": "code",
      "metadata": {
        "id": "SEVw64mAGTJX",
        "outputId": "fda1ea80-c6c5-41b8-c1ce-c5a7323cc25a",
        "colab": {
          "base_uri": "https://localhost:8080/"
        }
      },
      "source": [
        "a_gpu.gpudata"
      ],
      "execution_count": 62,
      "outputs": [
        {
          "output_type": "execute_result",
          "data": {
            "text/plain": [
              "<pycuda._driver.DeviceAllocation at 0x7f950e309d50>"
            ]
          },
          "metadata": {
            "tags": []
          },
          "execution_count": 62
        }
      ]
    },
    {
      "cell_type": "code",
      "metadata": {
        "id": "xVrt4nDeGdvS"
      },
      "source": [
        "importedKernel(a_gpu.gpudata, b_gpu.gpudata, c_gpu.gpudata, block=(nTxB,nBxG,nGxB))"
      ],
      "execution_count": 64,
      "outputs": []
    },
    {
      "cell_type": "code",
      "metadata": {
        "id": "KnGoDzm0Guer"
      },
      "source": [
        ""
      ],
      "execution_count": null,
      "outputs": []
    },
    {
      "cell_type": "markdown",
      "metadata": {
        "id": "-EejvV3cHBP_"
      },
      "source": [
        "# SOMMA DI MATRICI"
      ]
    },
    {
      "cell_type": "code",
      "metadata": {
        "id": "9nvYtmuCHEQs"
      },
      "source": [
        ""
      ],
      "execution_count": null,
      "outputs": []
    }
  ]
}